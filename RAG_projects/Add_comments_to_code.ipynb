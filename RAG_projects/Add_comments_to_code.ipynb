{
 "cells": [
  {
   "cell_type": "code",
   "execution_count": 2,
   "id": "fae7b72a-7b48-4197-a67b-b29658f75019",
   "metadata": {},
   "outputs": [],
   "source": [
    "# imports\n",
    "\n",
    "import os\n",
    "import io\n",
    "import sys\n",
    "from dotenv import load_dotenv\n",
    "from openai import OpenAI\n",
    "import google.generativeai\n",
    "import anthropic\n",
    "from IPython.display import Markdown, display, update_display\n",
    "import gradio as gr\n",
    "import subprocess"
   ]
  },
  {
   "cell_type": "code",
   "execution_count": 5,
   "id": "5a072da8-86b9-483e-8232-94128e948ca5",
   "metadata": {},
   "outputs": [],
   "source": [
    "load_dotenv(override=True)\n",
    "os.environ['OPENAI_API_KEY'] = os.getenv('OPENAI_API_KEY', 'your-key-if-not-using-env')"
   ]
  },
  {
   "cell_type": "code",
   "execution_count": 6,
   "id": "6bfb5ced-7b06-46bd-98af-99f504832a70",
   "metadata": {},
   "outputs": [],
   "source": [
    "openai = OpenAI()"
   ]
  },
  {
   "cell_type": "code",
   "execution_count": 7,
   "id": "14ccfdb2-913a-47bd-8cb0-508cf1e42475",
   "metadata": {},
   "outputs": [],
   "source": [
    "system_message = \"You are an assistant that improves readability of code by just adding comments to it. \"\n",
    "system_message += \"You cannot alter or modify the exiting code. Just add comments to the code. \""
   ]
  },
  {
   "cell_type": "code",
   "execution_count": 55,
   "id": "484dc571-eefc-4dcd-b1bf-7fdb3671bfc7",
   "metadata": {},
   "outputs": [],
   "source": [
    "def user_prompt_for(code_text):\n",
    "    user_prompt = \"Add comments to this code to improve readability of it. Don't alter or modify anything in code.Just add comments to it.\"\n",
    "    user_prompt += \"You do not need to add comments on each line of code.Add comments on block of code and where it looks necessary.\"\n",
    "    user_prompt += code_text\n",
    "    return user_prompt"
   ]
  },
  {
   "cell_type": "code",
   "execution_count": 57,
   "id": "d32cd21d-3334-4a5c-8d03-bdba3929ea6f",
   "metadata": {},
   "outputs": [],
   "source": [
    "python_code = \"\"\"\n",
    "import time\n",
    "\n",
    "def calculate(iterations, param1, param2):\n",
    "    result = 1.0\n",
    "    for i in range(1, iterations+1):\n",
    "        j = i * param1 - param2\n",
    "        result -= (1/j)\n",
    "        j = i * param1 + param2\n",
    "        result += (1/j)\n",
    "    return result\n",
    "\n",
    "start_time = time.time()\n",
    "result = calculate(100_000_000, 4, 1) * 4\n",
    "end_time = time.time()\n",
    "\n",
    "print(f\"Result: {result:.12f}\")\n",
    "print(f\"Execution Time: {(end_time - start_time):.6f} seconds\")\n",
    "\"\"\""
   ]
  },
  {
   "cell_type": "code",
   "execution_count": 56,
   "id": "b921af3a-9467-468c-a932-9d891ec04f0c",
   "metadata": {},
   "outputs": [],
   "source": [
    "def build_message(code_text):\n",
    "    return [\n",
    "        {\"role\": \"system\", \"content\": system_message},\n",
    "        {\"role\": \"user\", \"content\": user_prompt_for(code_text)}\n",
    "    ]"
   ]
  },
  {
   "cell_type": "code",
   "execution_count": 15,
   "id": "45dc8521-a4fa-4e9c-a551-2d128b55b823",
   "metadata": {},
   "outputs": [],
   "source": [
    "def run_model(code_text, MODEL):\n",
    "    completion = openai.chat.completions.create(\n",
    "        model=\"gpt-4o-mini\",\n",
    "        messages=build_message(code_text),\n",
    "    )\n",
    "    return completion.choices[0].message.content"
   ]
  },
  {
   "cell_type": "code",
   "execution_count": null,
   "id": "4f5d0bc8-754f-4236-a6fb-a64be1305b76",
   "metadata": {},
   "outputs": [],
   "source": [
    "Markdown_text=\"\"\"\n",
    "    <div style=\"text-align: center; font-size: 24px; color: #FF5733;\">\n",
    "        <strong> Utility to Add Comments to your Code!</strong>\n",
    "    </div>\n",
    "    \"\"\"\n",
    "HTML_MARKDOWN=\"\"\"\n",
    "    <div style=\"text-align: center; font-size: 32px; color: grey; font-weight: bold;\">\n",
    "        Utility to Add Comments to your Code!\n",
    "    </div>\n",
    "    \"\"\"\n"
   ]
  },
  {
   "cell_type": "code",
   "execution_count": 58,
   "id": "654d13a2-5b93-4e9c-b5f9-4fcf9af98fd5",
   "metadata": {},
   "outputs": [
    {
     "name": "stdout",
     "output_type": "stream",
     "text": [
      "* Running on local URL:  http://127.0.0.1:7882\n",
      "* To create a public link, set `share=True` in `launch()`.\n"
     ]
    },
    {
     "data": {
      "text/html": [
       "<div><iframe src=\"http://127.0.0.1:7882/\" width=\"100%\" height=\"500\" allow=\"autoplay; camera; microphone; clipboard-read; clipboard-write;\" frameborder=\"0\" allowfullscreen></iframe></div>"
      ],
      "text/plain": [
       "<IPython.core.display.HTML object>"
      ]
     },
     "metadata": {},
     "output_type": "display_data"
    },
    {
     "data": {
      "text/plain": []
     },
     "execution_count": 58,
     "metadata": {},
     "output_type": "execute_result"
    }
   ],
   "source": [
    "with gr.Blocks(css=\".gradio-container {background-color: black}\",theme=gr.themes.Monochrome()) as ui:\n",
    "    #gr.Markdown(Markdown_text)\n",
    "    gr.HTML(HTML_MARKDOWN)\n",
    "    with gr.Row():\n",
    "        code_text = gr.Textbox(label=\"Code Snippet:\", lines=10, value=python_code)\n",
    "        result = gr.Textbox(label=\"Result :\", lines=10)\n",
    "    with gr.Row():\n",
    "        model = gr.Dropdown([\"GPT Mini\", \"Claude\"], label=\"Select model\", value=\"GPT Mini\")\n",
    "        convert = gr.Button(\"Run\")\n",
    "\n",
    "    convert.click(run_model, inputs=[code_text, model], outputs=[result])\n",
    "\n",
    "ui.launch(inbrowser=True)"
   ]
  },
  {
   "cell_type": "code",
   "execution_count": null,
   "id": "0562af54-8d2c-4f8d-8d0a-a08225395f8a",
   "metadata": {},
   "outputs": [],
   "source": []
  }
 ],
 "metadata": {
  "kernelspec": {
   "display_name": "Python 3 (ipykernel)",
   "language": "python",
   "name": "python3"
  },
  "language_info": {
   "codemirror_mode": {
    "name": "ipython",
    "version": 3
   },
   "file_extension": ".py",
   "mimetype": "text/x-python",
   "name": "python",
   "nbconvert_exporter": "python",
   "pygments_lexer": "ipython3",
   "version": "3.11.13"
  }
 },
 "nbformat": 4,
 "nbformat_minor": 5
}
